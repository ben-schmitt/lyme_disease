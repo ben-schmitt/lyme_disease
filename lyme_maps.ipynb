{
 "cells": [
  {
   "cell_type": "code",
   "execution_count": null,
   "metadata": {},
   "outputs": [],
   "source": []
  },
  {
   "cell_type": "markdown",
   "metadata": {},
   "source": [
    "\n",
    "#Making a Choropleth Map using Altair\n",
    "\n",
    "For this tutorial I decided to use a map to explore changes in Lyme disease occurrence over time. The CDC collects and publishes data on Lyme disease cases in the United States. The data is reported in various ways. I choose to look at cases per county aggregated over several year periods. The incidence of Lyme is related to the abundance of certain species of ticks, which varies from year to year. Looking at human cases of Lyme disease summed over several years helps to understand the overall trends in cases by reducing the signal caused by fluctuations in tick abundance. (The data set I used is available here: https://data.cdc.gov/browse?q=LymeDisease_9211_county&sortBy=relevance).\n",
    "\n",
    "Lyme disease is a bacterial infection transmitted to humans by the bite of an infected tick. Early symptoms include fever, chills, fatigue, body aches, headache, neck stiffness and swollen lymph nodes. If untreated, later symptoms can include  joint pain and neurological problems. It is definitely a disease I would prefer not to get. The disease was first documented near Lyme Connecticut, hence the name, in 1970s. The number of Lyme disease cases per year is trending higher and changes in geographic location of cases have also been observed.  I want to understand how the number and location of Lyme disease cases has changed over time. Visualizing changes in Lyme disease occurrence over time could help health professionals and the public understand risk and implement risk management strategies. It could also help me avoid recreating in areas with a high number of Lyme disease cases.\n",
    "\n"
   ]
  },
  {
   "cell_type": "markdown",
   "metadata": {},
   "source": [
    "#Visualization Technique\n",
    "\n",
    "I choose to visualize the CDC Lyme disease data using a choropleth map. Choropleth maps use intensity of color to encode a variable representing some attribute of a particular geographic unit. In the following visualizations I will use color intensity to encode the number of Lyme disease cases per state or county. Maps are useful for understanding all kinds of information especially geographic information. It’s much easier to visualize where something is happening by looking at a map rather than reading coordinates, or a county name. Since the CDC Lyme disease data is reported by State and county, I thought a choropleth map would be a good way to visualize it. It's kind of obvious but a map is only good for displaying data with a location component."
   ]
  },
  {
   "cell_type": "markdown",
   "metadata": {},
   "source": [
    "#Visualization Library\n",
    "\n",
    "I am using the Altair library. Altair is a declarative visualization library for Python. It is based on Vega and Vega-Lite, which are visualization tools that can describe visual appearance and interactive behavior of a visualization in a JSON format. The source is available here: https://github.com/altair-viz/altair.\n",
    "\n",
    "I selected Altair because it is relatively easy to use and has some neat map examples in their example gallery. Altair will also display maps in Jupyter notebooks. Matplotlib and seaborn don’t seem to offer easy ways to make map visualizations. One drawback of using Altair to make maps is that it does not seem to support interactive map visualizations at this time.\n"
   ]
  },
  {
   "cell_type": "markdown",
   "metadata": {},
   "source": [
    "#Installing Altair\n",
    "\n",
    "the following text is from this site: https://altair-viz.github.io/getting_started/installation.html\n",
    "\n",
    "Altair can be installed, along with the example datasets in vega_datasets, using:\n",
    "\n",
    "$ pip install altair vega_datasets\n",
    "\n",
    "If you are using the conda package manager, the equivalent is:\n",
    "\n",
    "$ conda install -c conda-forge altair vega_datasets\n",
    "\n",
    "At this point, you should be able to open Jupyter Notebook or JupyterLab and execute any of the code from the Example Gallery. For more information on how to display charts in various notebook environments and non-notebook IDEs, see Displaying Altair Charts."
   ]
  },
  {
   "cell_type": "markdown",
   "metadata": {},
   "source": [
    "#Import Libraries\n",
    "\n",
    "The following libraries will be used for data cleaning and visualizations"
   ]
  },
  {
   "cell_type": "code",
   "execution_count": 1,
   "metadata": {},
   "outputs": [],
   "source": [
    "import altair as alt\n",
    "from vega_datasets import data\n",
    "import pandas as pd"
   ]
  },
  {
   "cell_type": "code",
   "execution_count": 2,
   "metadata": {},
   "outputs": [
    {
     "data": {
      "text/plain": [
       "RendererRegistry.enable('mimetype')"
      ]
     },
     "execution_count": 2,
     "metadata": {},
     "output_type": "execute_result"
    }
   ],
   "source": [
    "alt.renderers.enable('mimetype')"
   ]
  },
  {
   "cell_type": "code",
   "execution_count": 3,
   "metadata": {},
   "outputs": [
    {
     "data": {
      "text/plain": [
       "DataTransformerRegistry.enable('json')"
      ]
     },
     "execution_count": 3,
     "metadata": {},
     "output_type": "execute_result"
    }
   ],
   "source": [
    "alt.data_transformers.enable('json')"
   ]
  },
  {
   "cell_type": "markdown",
   "metadata": {},
   "source": [
    "#Collecting and Cleaning Data\n",
    "\n",
    "I went to https://data.cdc.gov/dataset/LymeDisease_9211_county/smai-7mz9. Once there I clicked the export button in the upper right corner of the page and selected the csv format.\n",
    "\n",
    "The CDC data does not contain the full FIPS county codes which are necessary for this example. I found the full FIPS county codes on the USDA NRCS website here:\n",
    "https://www.nrcs.usda.gov/wps/portal/nrcs/detail/national/home/?cid=nrcs143_013697"
   ]
  },
  {
   "cell_type": "code",
   "execution_count": 4,
   "metadata": {},
   "outputs": [],
   "source": [
    "# Reading in the CDC data\n",
    "df = pd.read_csv('LymeDisease.csv') \n",
    "\n",
    "# Getting rid of the word 'County' so I can use map later\n",
    "df['county']=df['CountyName'].str.replace('County', '')\n",
    "df=df.astype({'county': 'str'})\n",
    "\n",
    "# This for loop removes whitespace from the county names so I can use map later\n",
    "count_space=df['county'].to_list()\n",
    "new_county= []\n",
    "\n",
    "for item in count_space:\n",
    "    n_item=item.rstrip()\n",
    "    new_county.append(n_item)\n",
    "\n",
    "df['county']= new_county\n",
    "\n",
    "# Reading in the full FIPS county codes I got from the NRCS website \n",
    "df_county = pd.read_csv('county_codes.csv', header=0 )\n",
    "\n",
    "#dropping unwanted column\n",
    "df_county=df_county.drop(['state_abr'], axis=1)\n",
    "df_county= df_county.astype({'county': 'str'})\n",
    "\n",
    "# Making a dictionary of county names and id (FIPS) numbers \n",
    "code_dict = dict(zip(df_county['county'], df_county['id']))\n",
    "# maping county id to the dataframe that holds the CDC data\n",
    "df['id'] = df['county'].map(code_dict)\n",
    "\n",
    "#-------------------------------------------------------------------------------------------------\n",
    "# Making a df with county cases sumed by state \n",
    "df_all_s_group= df[['StateCode','ConfirmedCount_1992_1996', 'ConfirmedCount_1997_2001','ConfirmedCount_2002_2006', 'ConfirmedCount_2007_2011']]\n",
    "\n",
    "df_all_s_group= df_all_s_group.groupby(by=['StateCode']).sum().reset_index()"
   ]
  },
  {
   "cell_type": "markdown",
   "metadata": {},
   "source": [
    "Creating Some Maps\n",
    "\n",
    "Just to get a sense of what this data looks like I started with a map of the Lyme disease cases in each state over the measurement period. The states variable holds the map information in a topojson file. This file came from the vega_datasets that I imported earlier. The Altair transform_lookup() method tripped me up a little at first. It is commonly used in Altair to combine tabular datasets with datasets that specify geographic boundaries. \n"
   ]
  },
  {
   "cell_type": "code",
   "execution_count": 5,
   "metadata": {},
   "outputs": [
    {
     "data": {
      "application/vnd.vegalite.v4+json": {
       "$schema": "https://vega.github.io/schema/vega-lite/v4.17.0.json",
       "config": {
        "view": {
         "continuousHeight": 300,
         "continuousWidth": 400
        }
       },
       "data": {
        "format": {
         "feature": "states",
         "type": "topojson"
        },
        "url": "https://cdn.jsdelivr.net/npm/vega-datasets@v1.29.0/data/us-10m.json"
       },
       "layer": [
        {
         "mark": {
          "fill": "white",
          "stroke": "black",
          "strokeWidth": 0.5,
          "type": "geoshape"
         }
        },
        {
         "encoding": {
          "color": {
           "field": "ConfirmedCount_2007_2011",
           "type": "quantitative"
          }
         },
         "height": 300,
         "mark": "geoshape",
         "projection": {
          "type": "albersUsa"
         },
         "transform": [
          {
           "from": {
            "data": {
             "format": {
              "type": "json"
             },
             "url": "altair-data-e834ebfb9f79f7c7a1afd8dc4c74f651.json"
            },
            "fields": [
             "ConfirmedCount_2007_2011"
            ],
            "key": "StateCode"
           },
           "lookup": "id"
          }
         ],
         "width": 500
        }
       ]
      },
      "text/plain": [
       "<VegaLite 4 object>\n",
       "\n",
       "If you see this message, it means the renderer has not been properly enabled\n",
       "for the frontend that you are using. For more information, see\n",
       "https://altair-viz.github.io/user_guide/troubleshooting.html\n"
      ]
     },
     "execution_count": 5,
     "metadata": {},
     "output_type": "execute_result"
    }
   ],
   "source": [
    "\n",
    "states = alt.topo_feature(data.us_10m.url, 'states')\n",
    "source=df_all_s_group\n",
    "\n",
    "base_s = alt.Chart(states).mark_geoshape(fill='white', stroke='black', strokeWidth=0.5)\n",
    "\n",
    "chart_s= alt.Chart(states).mark_geoshape().encode(\n",
    "    color='ConfirmedCount_2007_2011:Q'\n",
    ").transform_lookup(\n",
    "    lookup='id',\n",
    "    from_=alt.LookupData(source, 'StateCode', ['ConfirmedCount_2007_2011'])\n",
    ").project(\n",
    "    type='albersUsa'\n",
    ").properties(\n",
    "    width=500,\n",
    "    height=300\n",
    ")\n",
    "base_s+chart_s"
   ]
  },
  {
   "cell_type": "markdown",
   "metadata": {},
   "source": [
    "Looks like there are lots of cases in central New England and some and some in Minnesota and Wisconsin too. Let's see how the cases change over time by using a repeated choropleth map."
   ]
  },
  {
   "cell_type": "code",
   "execution_count": 6,
   "metadata": {},
   "outputs": [
    {
     "data": {
      "application/vnd.vegalite.v4+json": {
       "$schema": "https://vega.github.io/schema/vega-lite/v4.17.0.json",
       "config": {
        "view": {
         "continuousHeight": 300,
         "continuousWidth": 400
        }
       },
       "repeat": {
        "row": [
         "ConfirmedCount_1992_1996",
         "ConfirmedCount_1997_2001",
         "ConfirmedCount_2002_2006",
         "ConfirmedCount_2007_2011"
        ]
       },
       "resolve": {
        "scale": {
         "color": "independent"
        }
       },
       "spec": {
        "data": {
         "format": {
          "feature": "states",
          "type": "topojson"
         },
         "url": "https://cdn.jsdelivr.net/npm/vega-datasets@v1.29.0/data/us-10m.json"
        },
        "encoding": {
         "color": {
          "field": {
           "repeat": "row"
          },
          "type": "quantitative"
         }
        },
        "height": 300,
        "mark": "geoshape",
        "projection": {
         "type": "albersUsa"
        },
        "transform": [
         {
          "from": {
           "data": {
            "format": {
             "type": "json"
            },
            "url": "altair-data-e834ebfb9f79f7c7a1afd8dc4c74f651.json"
           },
           "fields": [
            "ConfirmedCount_1992_1996",
            "ConfirmedCount_1997_2001",
            "ConfirmedCount_2002_2006",
            "ConfirmedCount_2007_2011"
           ],
           "key": "StateCode"
          },
          "lookup": "id"
         }
        ],
        "width": 500
       }
      },
      "text/plain": [
       "<VegaLite 4 object>\n",
       "\n",
       "If you see this message, it means the renderer has not been properly enabled\n",
       "for the frontend that you are using. For more information, see\n",
       "https://altair-viz.github.io/user_guide/troubleshooting.html\n"
      ]
     },
     "execution_count": 6,
     "metadata": {},
     "output_type": "execute_result"
    }
   ],
   "source": [
    "\n",
    "variable_list = ['ConfirmedCount_1992_1996','ConfirmedCount_1997_2001','ConfirmedCount_2002_2006', 'ConfirmedCount_2007_2011']\n",
    "\n",
    "alt.Chart(states).mark_geoshape().encode(\n",
    "    alt.Color(alt.repeat('row'), type='quantitative')\n",
    ").transform_lookup(\n",
    "    lookup='id',\n",
    "    from_=alt.LookupData(source, 'StateCode', variable_list)\n",
    ").properties(\n",
    "    width=500,\n",
    "    height=300\n",
    ").project(\n",
    "    type='albersUsa'\n",
    ").repeat(\n",
    "    row=variable_list\n",
    ").resolve_scale(\n",
    "    color='independent'\n",
    ")\n"
   ]
  },
  {
   "cell_type": "markdown",
   "metadata": {},
   "source": [
    "It looks like cases of Lyme were high in New York, Connecticut, Pennsylvania, and New Jersey from 1992-1996. It looks like case numbers in New York stayed about the same over the years included in the dataset. However, case numbers increased over time in other New England States and in Minnesota and Wisconsin. \n",
    "\n",
    "Let’s look at the data by county to get a finer grained representation of the location of Lyme cases."
   ]
  },
  {
   "cell_type": "code",
   "execution_count": 7,
   "metadata": {},
   "outputs": [
    {
     "data": {
      "application/vnd.vegalite.v4+json": {
       "$schema": "https://vega.github.io/schema/vega-lite/v4.17.0.json",
       "config": {
        "view": {
         "continuousHeight": 300,
         "continuousWidth": 400
        }
       },
       "layer": [
        {
         "data": {
          "format": {
           "feature": "states",
           "type": "topojson"
          },
          "url": "https://cdn.jsdelivr.net/npm/vega-datasets@v1.29.0/data/us-10m.json"
         },
         "mark": {
          "fill": "white",
          "stroke": "black",
          "strokeWidth": 0.5,
          "type": "geoshape"
         }
        },
        {
         "data": {
          "format": {
           "feature": "counties",
           "type": "topojson"
          },
          "url": "https://cdn.jsdelivr.net/npm/vega-datasets@v1.29.0/data/us-10m.json"
         },
         "encoding": {
          "color": {
           "field": "ConfirmedCount_2007_2011",
           "type": "quantitative"
          }
         },
         "height": 300,
         "mark": "geoshape",
         "projection": {
          "type": "albersUsa"
         },
         "transform": [
          {
           "from": {
            "data": {
             "format": {
              "type": "json"
             },
             "url": "altair-data-166cd7f2701a7ccf6f0b6a27b110367f.json"
            },
            "fields": [
             "ConfirmedCount_2007_2011"
            ],
            "key": "id"
           },
           "lookup": "id"
          }
         ],
         "width": 500
        }
       ]
      },
      "text/plain": [
       "<VegaLite 4 object>\n",
       "\n",
       "If you see this message, it means the renderer has not been properly enabled\n",
       "for the frontend that you are using. For more information, see\n",
       "https://altair-viz.github.io/user_guide/troubleshooting.html\n"
      ]
     },
     "execution_count": 7,
     "metadata": {},
     "output_type": "execute_result"
    }
   ],
   "source": [
    "counties = alt.topo_feature(data.us_10m.url, 'counties')\n",
    "\n",
    "source=df\n",
    "\n",
    "base = alt.Chart(states).mark_geoshape(fill='white', stroke='black', strokeWidth=0.5)\n",
    "\n",
    "chart= alt.Chart(counties).mark_geoshape().encode(\n",
    "    color='ConfirmedCount_2007_2011:Q'\n",
    ").transform_lookup(\n",
    "    lookup='id',\n",
    "    from_=alt.LookupData(source, 'id', ['ConfirmedCount_2007_2011'])\n",
    ").project(\n",
    "    type='albersUsa'\n",
    ").properties(\n",
    "    width=500,\n",
    "    height=300\n",
    ")\n",
    "base+chart"
   ]
  },
  {
   "cell_type": "markdown",
   "metadata": {},
   "source": [
    "This is interesting. It looks like there are Lyme disease hot spots within states that have high numbers of cases. I would need to normalize this data by population to see if these hot spots are associated with higher risk areas or if they are just spots where more people live. This visualization also indicates that there are large parts of the country with very few to zero confirmed cases of Lyme disease during the measurement period. "
   ]
  }
 ],
 "metadata": {
  "kernelspec": {
   "display_name": "Python 3.10.4 64-bit",
   "language": "python",
   "name": "python3"
  },
  "language_info": {
   "codemirror_mode": {
    "name": "ipython",
    "version": 3
   },
   "file_extension": ".py",
   "mimetype": "text/x-python",
   "name": "python",
   "nbconvert_exporter": "python",
   "pygments_lexer": "ipython3",
   "version": "3.10.4"
  },
  "orig_nbformat": 4,
  "vscode": {
   "interpreter": {
    "hash": "cfbf783a11fdc9922f3ac3062272c36041cc7b087677fa264d9933912d89c1bb"
   }
  }
 },
 "nbformat": 4,
 "nbformat_minor": 2
}
